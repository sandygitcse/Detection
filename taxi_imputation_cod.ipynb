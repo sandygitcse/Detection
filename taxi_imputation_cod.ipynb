{
 "cells": [
  {
   "cell_type": "code",
   "execution_count": 1,
   "metadata": {},
   "outputs": [
    {
     "name": "stdout",
     "output_type": "stream",
     "text": [
      "336 input length\n",
      "(9600,) (10320, 1) (10320, 1)\n"
     ]
    }
   ],
   "source": [
    "import numpy as np\n",
    "import pandas as pd\n",
    "import os\n",
    "import plotly.express as px\n",
    "import matplotlib.pyplot as plt\n",
    "import seaborn as sns\n",
    "import subprocess\n",
    "from scipy.stats import iqr\n",
    "from sklearn.preprocessing import StandardScaler\n",
    "from sklearn.metrics import mean_squared_error,mean_absolute_error\n",
    "from sklearn.metrics import roc_curve, auc\n",
    "from sklearn.datasets import make_classification\n",
    "from sklearn import metrics, datasets\n",
    "plt.rcParams['figure.figsize']=(25,5)\n",
    "DATA_DIRS = \"/mnt/a99/d0/sandy/Forecasting/\"\n",
    "df = pd.read_csv(DATA_DIRS+'data/taxi/NYC_Taxi.csv')\n",
    "data = df[['value']].to_numpy()\n",
    "labels = np.zeros_like(df[['label']])\n",
    "# print(sum(labels))\n",
    "path = \"Results/taxi/taxi_ip_336_op_50_predict_50/taxi/\"\n",
    "preds = np.load(path+'trans-mse-ar_pred_mu.npy')\n",
    "inputs = np.load(path+'inputs.npy')\n",
    "trues = np.load(path+'targets.npy')\n",
    "cb = inputs.shape[1]\n",
    "print(cb,\"input length\")\n",
    "preds = preds.reshape(-1,)\n",
    "trues = trues.reshape(-1,)\n",
    "\n",
    "# print(preds.shape,inputs.shape,trues.shape)\n",
    "cwd = \"/mnt/a99/d0/sandy/Forecasting/data/\"\n",
    "save_path=os.path.join(cwd,\"taxi\",f\"taxi_mask_roc.npy\")\n",
    "mask_values = np.load(save_path)\n",
    "print(mask_values.shape,data.shape,labels.shape)\n",
    "for i,x in enumerate(mask_values):\n",
    "    if x==1:\n",
    "        data[i+2*cb]=preds[i]\n",
    "        labels[i+2*cb]=1\n",
    "        # print(data[i+200])\n"
   ]
  },
  {
   "cell_type": "markdown",
   "metadata": {},
   "source": [
    "***Below code is for saving predicted anomaly***"
   ]
  },
  {
   "cell_type": "code",
   "execution_count": 2,
   "metadata": {},
   "outputs": [
    {
     "data": {
      "text/plain": [
       "CompletedProcess(args=['scp', '/mnt/a99/d0/sandy/Forecasting/data/taxi/taxi_prediction_roc.csv', 'sandy@cat.cse.iitb.ac.in:/mnt/cat/data/sandy/Forecasting/data/taxi/taxi_prediction_roc.csv'], returncode=0)"
      ]
     },
     "execution_count": 2,
     "metadata": {},
     "output_type": "execute_result"
    }
   ],
   "source": [
    "df[['label']] = labels\n",
    "file_p =  os.path.join(\"/mnt/a99/d0/sandy/Forecasting/data\", 'taxi', f'taxi_prediction_roc.csv')\n",
    "file_ssh =  os.path.join(\"/mnt/cat/data/sandy/Forecasting\", 'data', 'taxi', f'taxi_prediction_roc.csv')\n",
    "df.to_csv(file_p)\n",
    "subprocess.run([\"scp\",file_p, f\"sandy@cat.cse.iitb.ac.in:{file_ssh}\"])"
   ]
  },
  {
   "cell_type": "code",
   "execution_count": null,
   "metadata": {},
   "outputs": [],
   "source": [
    "plt.plot(mask_values*500)\n",
    "plt.plot(df[2*cb:]['label'].to_numpy()*200)\n",
    "# plt.plot(preds)\n",
    "plt.show()"
   ]
  },
  {
   "cell_type": "code",
   "execution_count": null,
   "metadata": {},
   "outputs": [],
   "source": [
    "px.line(df[2*cb:]['value'])"
   ]
  },
  {
   "cell_type": "code",
   "execution_count": null,
   "metadata": {},
   "outputs": [],
   "source": [
    "px.line(data)"
   ]
  },
  {
   "cell_type": "markdown",
   "metadata": {},
   "source": [
    "**Below code is for imputation data** "
   ]
  },
  {
   "cell_type": "code",
   "execution_count": 10,
   "metadata": {},
   "outputs": [
    {
     "data": {
      "text/plain": [
       "CompletedProcess(args=['scp', '/mnt/a99/d0/sandy/Forecasting/data/taxi/taxi_imputation_roc.csv', 'sandy@cat.cse.iitb.ac.in:/mnt/cat/data/sandy/Forecasting/data/taxi/taxi_imputation_roc.csv'], returncode=0)"
      ]
     },
     "execution_count": 10,
     "metadata": {},
     "output_type": "execute_result"
    }
   ],
   "source": [
    "df[['value']] = data\n",
    "df[['label']] = labels\n",
    "file_p =  os.path.join(\"/mnt/a99/d0/sandy/Forecasting/data\", 'taxi', f'taxi_imputation_roc.csv')\n",
    "file_ssh =  os.path.join(\"/mnt/cat/data/sandy/Forecasting\", 'data', 'taxi', f'taxi_imputation_roc.csv')\n",
    "df.to_csv(file_p)\n",
    "subprocess.run([\"scp\",file_p, f\"sandy@cat.cse.iitb.ac.in:{file_ssh}\"])"
   ]
  },
  {
   "cell_type": "markdown",
   "metadata": {},
   "source": [
    "**Below code show the width of the anomaly predicted**"
   ]
  },
  {
   "cell_type": "code",
   "execution_count": 7,
   "metadata": {},
   "outputs": [],
   "source": [
    "def series_segmentation(data, stepsize=1):\n",
    "    return np.split(data, np.where(np.diff(data) != stepsize)[0] + 1)\n",
    "outlier_idxs = np.where(df.label == 1)[0]\n",
    "# outliers = list(data.iloc[outlier_idxs])\n",
    "outcome = series_segmentation(outlier_idxs)"
   ]
  },
  {
   "cell_type": "code",
   "execution_count": 8,
   "metadata": {},
   "outputs": [
    {
     "name": "stdout",
     "output_type": "stream",
     "text": [
      "49\n",
      "99\n",
      "199\n",
      "99\n",
      "49\n",
      "49\n",
      "99\n",
      "650 0\n"
     ]
    }
   ],
   "source": [
    "np.random.seed(34)\n",
    "mask = np.zeros_like(df['label'])\n",
    "for line in outcome:\n",
    "    print(line[-1]-line[0])\n",
    "print(sum(df['label']),sum(mask))"
   ]
  },
  {
   "cell_type": "code",
   "execution_count": null,
   "metadata": {},
   "outputs": [],
   "source": []
  }
 ],
 "metadata": {
  "kernelspec": {
   "display_name": "Python 3.9.12 ('base')",
   "language": "python",
   "name": "python3"
  },
  "language_info": {
   "codemirror_mode": {
    "name": "ipython",
    "version": 3
   },
   "file_extension": ".py",
   "mimetype": "text/x-python",
   "name": "python",
   "nbconvert_exporter": "python",
   "pygments_lexer": "ipython3",
   "version": "3.9.12"
  },
  "orig_nbformat": 4,
  "vscode": {
   "interpreter": {
    "hash": "547999772b589b5df1d7d375f800bcda02c498bbed60e34708470f468fb2bfbb"
   }
  }
 },
 "nbformat": 4,
 "nbformat_minor": 2
}
